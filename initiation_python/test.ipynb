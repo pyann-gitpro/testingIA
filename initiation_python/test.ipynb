{
 "cells": [
  {
   "cell_type": "markdown",
   "metadata": {},
   "source": [
    "# CHEAT SHEET PYTHON ypa"
   ]
  },
  {
   "cell_type": "code",
   "execution_count": 25,
   "metadata": {},
   "outputs": [],
   "source": [
    "# Déclaration de variables\n",
    "x = 5       # int\n",
    "y = 3.14    # float\n",
    "name = \"Python\"  # string\n",
    "is_python_fun = True  # bool"
   ]
  },
  {
   "cell_type": "code",
   "execution_count": null,
   "metadata": {},
   "outputs": [],
   "source": [
    "# Opérations de base\n",
    "a = 10 + 3   # Addition\n",
    "b = 10 - 3   # Soustraction\n",
    "c = 10 * 3   # Multiplication\n",
    "d = 10 / 3   # Division (résultat float)\n",
    "e = 10 // 3  # Division entière\n",
    "f = 10 % 3   # Modulo (reste)\n",
    "g = 10 ** 3  # Puissance (exponentiation)"
   ]
  },
  {
   "cell_type": "code",
   "execution_count": 1,
   "metadata": {},
   "outputs": [
    {
     "name": "stdout",
     "output_type": "stream",
     "text": [
      "Enfant\n",
      "0\n",
      "1\n",
      "2\n",
      "3\n",
      "4\n",
      "0\n",
      "1\n",
      "2\n",
      "3\n",
      "4\n",
      "5\n",
      "match \t toto\n"
     ]
    }
   ],
   "source": [
    "# Condition if/else\n",
    "age = 7\n",
    "if age <= 15:\n",
    "    print(\"Enfant\")\n",
    "elif 16 <= age <= 28 :\n",
    "    print(\"Ado\")\n",
    "else:\n",
    "    print(\"Adulte\")\n",
    "\n",
    "# Boucle for\n",
    "for i in range(5):  # De 0 à 4\n",
    "    print(i)\n",
    "\n",
    "# Boucle while\n",
    "i = 0\n",
    "while i < 6:\n",
    "    print(i)\n",
    "    i += 1\n",
    "\n",
    "# boucle match\n",
    "nom = \"toto\"\n",
    "match nom:\n",
    "    case \"tata\":\n",
    "        pass\n",
    "    case \"tutu\":\n",
    "        pass\n",
    "    case \"toto\":\n",
    "        print(\"match\", \"\\t\", nom) #\\t => tabulation"
   ]
  },
  {
   "cell_type": "code",
   "execution_count": null,
   "metadata": {},
   "outputs": [],
   "source": [
    "# Déclaration d'une liste\n",
    "fruits = [\"pomme\", \"banane\", \"orange\"]\n",
    "\n",
    "# Accéder aux éléments\n",
    "print(fruits[0])  # \"pomme\"\n",
    "\n",
    "# Ajouter un élément\n",
    "fruits.append(\"mangue\")\n",
    "\n",
    "# Supprimer un élément\n",
    "fruits.remove(\"banane\")\n",
    "\n",
    "# Boucle sur une liste\n",
    "for fruit in fruits:\n",
    "    print(fruit)"
   ]
  },
  {
   "cell_type": "code",
   "execution_count": null,
   "metadata": {},
   "outputs": [],
   "source": [
    "# Définir une fonction\n",
    "def dire_bonjour(nom):\n",
    "    return \"Bonjour \" + nom\n",
    "\n",
    "# Appel de la fonction\n",
    "message = dire_bonjour(\"Alice\")\n",
    "print(message)  # Bonjour Alice"
   ]
  },
  {
   "cell_type": "code",
   "execution_count": null,
   "metadata": {},
   "outputs": [],
   "source": [
    "# Déclaration d'un dictionnaire\n",
    "personne = {\"nom\": \"John\", \"age\": 30}\n",
    "\n",
    "# Accéder aux valeurs\n",
    "print(personne[\"nom\"])  # \"John\"\n",
    "\n",
    "# Ajouter une clé-valeur\n",
    "personne[\"ville\"] = \"Paris\"\n",
    "\n",
    "# Boucler sur un dictionnaire\n",
    "for key, value in personne.items():\n",
    "    print(key, value)"
   ]
  },
  {
   "cell_type": "code",
   "execution_count": 2,
   "metadata": {},
   "outputs": [
    {
     "name": "stdout",
     "output_type": "stream",
     "text": [
      "[0, 1, 4, 9, 16, 25, 36, 49, 64, 81]\n"
     ]
    }
   ],
   "source": [
    "# Créer une nouvelle liste en une ligne\n",
    "squares = [x**2 for x in range(10)]\n",
    "print(squares)  # [0, 1, 4, 9, ..., 81]"
   ]
  },
  {
   "cell_type": "code",
   "execution_count": null,
   "metadata": {},
   "outputs": [],
   "source": [
    "try:\n",
    "    # Code susceptible de provoquer une erreur\n",
    "    result = 10 / 0\n",
    "except ZeroDivisionError:\n",
    "    print(\"Erreur : division par zéro\")\n"
   ]
  },
  {
   "cell_type": "code",
   "execution_count": null,
   "metadata": {},
   "outputs": [],
   "source": [
    "# Lire un fichier\n",
    "with open('fichier.txt', 'r') as fichier:\n",
    "    contenu = fichier.read()\n",
    "\n",
    "# Écrire dans un fichier\n",
    "with open('fichier.txt', 'w') as fichier:\n",
    "    fichier.write(\"Bonjour Python\")"
   ]
  },
  {
   "cell_type": "code",
   "execution_count": 3,
   "metadata": {},
   "outputs": [
    {
     "name": "stdout",
     "output_type": "stream",
     "text": [
      "4.0\n"
     ]
    }
   ],
   "source": [
    "# Importer un module\n",
    "import math\n",
    "\n",
    "# Utiliser une fonction du module\n",
    "print(math.sqrt(16))  # 4.0"
   ]
  },
  {
   "cell_type": "code",
   "execution_count": null,
   "metadata": {},
   "outputs": [],
   "source": [
    "# Définir une classe\n",
    "class Personne:\n",
    "    def __init__(self, nom, age):\n",
    "        self.nom = nom\n",
    "        self.age = age\n",
    "    def se_presenter(self):\n",
    "        return f\"Je m'appelle {self.nom} et j'ai {self.age} ans.\"\n",
    "\n",
    "# Créer un objet\n",
    "personne1 = Personne(\"Alice\", 25)\n",
    "print(personne1.se_presenter())  # \"Je m'appelle Alice et j'ai 25 ans.\""
   ]
  },
  {
   "cell_type": "code",
   "execution_count": null,
   "metadata": {},
   "outputs": [],
   "source": [
    "var1 = \"coucou\"\n",
    "var2 = \"nana\"\n",
    "title = \"FUN\"\n",
    "\n",
    "print(f'{var1 :=^20} {var2 :=^20}')\n",
    "print(f'{var1 :=>20} {var2 :=<20}')\n",
    "print(f'{var1 :=<20} {var2 :=>20}')\n",
    "print(f'{title :*^80}')"
   ]
  },
  {
   "cell_type": "code",
   "execution_count": 5,
   "metadata": {},
   "outputs": [
    {
     "data": {
      "text/plain": [
       "array([0. , 0.5, 1. , 1.5])"
      ]
     },
     "execution_count": 5,
     "metadata": {},
     "output_type": "execute_result"
    }
   ],
   "source": [
    "import numpy as np\n",
    "np.arange(0, 2, 0.5)"
   ]
  },
  {
   "cell_type": "code",
   "execution_count": 6,
   "metadata": {},
   "outputs": [
    {
     "name": "stdout",
     "output_type": "stream",
     "text": [
      "FUN\n",
      "FUN\n",
      "FUN\n"
     ]
    }
   ],
   "source": [
    "from numpy.random import rand\n",
    "toto = 10\n",
    "while toto > .5:\n",
    "    print(\"FUN\")\n",
    "    toto = rand()"
   ]
  }
 ],
 "metadata": {
  "kernelspec": {
   "display_name": "Python 3",
   "language": "python",
   "name": "python3"
  },
  "language_info": {
   "codemirror_mode": {
    "name": "ipython",
    "version": 3
   },
   "file_extension": ".py",
   "mimetype": "text/x-python",
   "name": "python",
   "nbconvert_exporter": "python",
   "pygments_lexer": "ipython3",
   "version": "3.12.4"
  }
 },
 "nbformat": 4,
 "nbformat_minor": 2
}
