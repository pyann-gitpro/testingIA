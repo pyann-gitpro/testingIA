{
 "cells": [
  {
   "cell_type": "markdown",
   "metadata": {},
   "source": [
    "## Prestation math + fréquence d'échantillonage + théorème de Shanon\n",
    "\n",
    "importation de numpy (faire des tableau array) et matplotlib (bibliothèque d'affichage)\n",
    "\n",
    "fréquence d'échantillonnage notée \"fs\" = nombre d'échantillon par seconde\n",
    "\n",
    "Théorème de SHANON : la frqce MAX d'un signal doit être inférieur à la moitié de la fqce d'échantillonage"
   ]
  },
  {
   "cell_type": "markdown",
   "metadata": {},
   "source": [
    "# IMPORTATION DES BIBLIOTHEQUE"
   ]
  },
  {
   "cell_type": "code",
   "execution_count": null,
   "metadata": {},
   "outputs": [],
   "source": [
    "import numpy as np\n",
    "import matplotlib as plt"
   ]
  },
  {
   "cell_type": "markdown",
   "metadata": {},
   "source": [
    "# matplotlib Gestion affichage de mes graphes\n",
    "\n",
    "\"--k\" couleur noir\n",
    "\"oc\" point rond\n",
    "plt.grid() => quadrillage sur tous graphiques\n",
    "plt.legend() => légende de mes graphiques \n",
    "Formateur == mise en page des graphiques => mettre quadrillage sur tous graphiques\n",
    "\n"
   ]
  },
  {
   "cell_type": "markdown",
   "metadata": {},
   "source": [
    "# subplot Gestion affichage (mise en page)\n",
    "\n",
    "2 lignes 3 colonnes \n",
    "\n",
    "subplot(nombre lignes, nombre colonnes, position)"
   ]
  },
  {
   "cell_type": "code",
   "execution_count": 2,
   "metadata": {},
   "outputs": [
    {
     "data": {
      "image/png": "[encoded data removed]",
      "text/plain": [
       "<Figure size 640x480 with 1 Axes>"
      ]
     },
     "metadata": {},
     "output_type": "display_data"
    }
   ],
   "source": [
    "import matplotlib.pyplot as plt\n",
    "\n",
    "plt.plot([1, 2, 3, 4])\n",
    "plt.ylabel('Label 1')\n",
    "plt.show()"
   ]
  },
  {
   "cell_type": "markdown",
   "metadata": {},
   "source": [
    "## EXERCICE MATPLOTLIB\n",
    "\n",
    "\n",
    "# EXERCICE1\n",
    "Créez un tableau NumPy contenant les entiers de 1 à 10 (inclus).\n",
    "# EXERCICE2\n",
    "Créez un tableau NumPy contenant 5 valeurs flottantes générées aléatoirement entre 0 et 1.\n",
    "# EXERCICE3\n",
    "Créez une fonction qui prend un tableau NumPy en entrée et renvoie la somme de ses éléments.\n",
    "# EXERCICE4\n",
    "Créez une fonction qui prend deux tableaux NumPy en entrée et renvoie le produit scalaire de ces deux tableaux (dot product).\n",
    "# EXERCICE5\n",
    "Créez une fonction qui prend un tableau NumPy en entrée et renvoie un nouveau tableau contenant uniquement les éléments uniques du tableau d'origine.\n",
    "# EXERCICE6\n",
    "Créez une fonction qui prend un tableau NumPy en entrée et renvoie un nouveau tableau contenant les éléments triés par ordre croissant.\n",
    "# EXERCICE7\n",
    "Créez une fonction qui prend un tableau NumPy en entrée et renvoie la moyenne, la médiane et l'écart type de ses éléments.\n",
    "# EXERCICE8\n",
    "Créez une fonction qui prend un tableau NumPy en entrée et renvoie un nouveau tableau où tous les éléments inférieurs à 5 sont remplacés par 0 et tous les éléments supérieurs ou égaux à 5 sont remplacés par 1.\n",
    "# EXERCICE9\n",
    "Créez une fonction qui prend un tableau NumPy de nombres entiers en entrée et renvoie un nouveau tableau contenant uniquement les nombres premiers du tableau d'origine.\n",
    "# EXERCICE10\n",
    "Créez un tableau NumPy 2D de taille 3x3 contenant des valeurs entières générées aléatoirement entre 1 et 10."
   ]
  },
  {
   "cell_type": "markdown",
   "metadata": {},
   "source": [
    "# EXERCICE1\n",
    "Créez un tableau NumPy contenant les entiers de 1 à 10 (inclus)."
   ]
  },
  {
   "cell_type": "code",
   "execution_count": 4,
   "metadata": {},
   "outputs": [
    {
     "data": {
      "text/plain": [
       "array([ 1,  2,  3,  4,  5,  6,  7,  8,  9, 10])"
      ]
     },
     "execution_count": 4,
     "metadata": {},
     "output_type": "execute_result"
    }
   ],
   "source": [
    "import numpy as np\n",
    "\n",
    "np.arange(1, 11, 1)"
   ]
  },
  {
   "cell_type": "markdown",
   "metadata": {},
   "source": [
    "# EXERCICE2\n",
    "Créez un tableau NumPy contenant 5 valeurs flottantes générées aléatoirement entre 0 et 1."
   ]
  },
  {
   "cell_type": "code",
   "execution_count": 5,
   "metadata": {},
   "outputs": [
    {
     "data": {
      "text/plain": [
       "array([0.50288026, 0.81643119, 0.70911605, 0.9499923 , 0.87930589])"
      ]
     },
     "execution_count": 5,
     "metadata": {},
     "output_type": "execute_result"
    }
   ],
   "source": [
    "np.random.random_sample(5)"
   ]
  },
  {
   "cell_type": "markdown",
   "metadata": {},
   "source": [
    "# EXERCICE3\n",
    "Créez une fonction qui prend un tableau NumPy en entrée et renvoie la somme de ses éléments."
   ]
  },
  {
   "cell_type": "code",
   "execution_count": 6,
   "metadata": {},
   "outputs": [
    {
     "name": "stdout",
     "output_type": "stream",
     "text": [
      "15\n"
     ]
    }
   ],
   "source": [
    "def sum(tab):\n",
    "    return np.sum(tab)\n",
    "\n",
    "element_arr = np.arange(1, 6, 1)\n",
    "sum_elem = sum(element_arr)\n",
    "\n",
    "print(sum_elem)"
   ]
  },
  {
   "cell_type": "markdown",
   "metadata": {},
   "source": [
    "# EXERCICE4\n",
    "Créez une fonction qui prend deux tableaux NumPy en entrée et renvoie le produit scalaire de ces deux tableaux (dot product)."
   ]
  },
  {
   "cell_type": "code",
   "execution_count": 7,
   "metadata": {},
   "outputs": [
    {
     "name": "stdout",
     "output_type": "stream",
     "text": [
      "32\n"
     ]
    }
   ],
   "source": [
    "def scalar_prod(tab1, tab2):\n",
    "    return np.dot(tab1, tab2)\n",
    "\n",
    "element_arr1 = np.array([1, 2, 3])\n",
    "element_arr2 = np.array([4, 5, 6])\n",
    "scale_dot = scalar_prod(element_arr1, element_arr2)\n",
    "\n",
    "print(scale_dot)"
   ]
  },
  {
   "cell_type": "markdown",
   "metadata": {},
   "source": [
    "# EXERCICE5\n",
    "Créez une fonction qui prend un tableau NumPy en entrée et renvoie un nouveau tableau contenant uniquement les éléments uniques du tableau d'origine."
   ]
  },
  {
   "cell_type": "code",
   "execution_count": 8,
   "metadata": {},
   "outputs": [
    {
     "name": "stdout",
     "output_type": "stream",
     "text": [
      "[ 1  2  3  4 12 13]\n"
     ]
    }
   ],
   "source": [
    "def uniq_elem(orig_tab):\n",
    "    return np.unique(orig_tab)\n",
    "tab = np.array([1, 12, 3, 4, 1, 2, 13, 4])\n",
    "new_tab = uniq_elem(tab)\n",
    "\n",
    "print(new_tab)\n"
   ]
  },
  {
   "cell_type": "markdown",
   "metadata": {},
   "source": [
    "# EXERCICE6\n",
    "Créez une fonction qui prend un tableau NumPy en entrée et renvoie un nouveau tableau contenant les éléments triés par ordre croissant."
   ]
  },
  {
   "cell_type": "code",
   "execution_count": 17,
   "metadata": {},
   "outputs": [
    {
     "name": "stdout",
     "output_type": "stream",
     "text": [
      "[1 1 2 2 3 3 4 4]\n"
     ]
    }
   ],
   "source": [
    "def filter_tab(orig_tab):\n",
    "    return np.sort(orig_tab)\n",
    "\n",
    "niu_tab = filter_tab(tab)\n",
    "\n",
    "print(niu_tab)"
   ]
  },
  {
   "cell_type": "markdown",
   "metadata": {},
   "source": [
    "# EXERCICE7\n",
    "Créez une fonction qui prend un tableau NumPy en entrée et renvoie la moyenne, la médiane et l'écart type de ses éléments."
   ]
  },
  {
   "cell_type": "code",
   "execution_count": 1,
   "metadata": {},
   "outputs": [
    {
     "ename": "NameError",
     "evalue": "name 'tab' is not defined",
     "output_type": "error",
     "traceback": [
      "\u001b[1;31m---------------------------------------------------------------------------\u001b[0m",
      "\u001b[1;31mNameError\u001b[0m                                 Traceback (most recent call last)",
      "Cell \u001b[1;32mIn[1], line 8\u001b[0m\n\u001b[0;32m      5\u001b[0m     ram \u001b[38;5;241m=\u001b[39m \u001b[38;5;28mprint\u001b[39m(\u001b[38;5;124m\"\u001b[39m\u001b[38;5;124mVoici les variables : \u001b[39m\u001b[38;5;124m\"\u001b[39m, mo, var, ety)\n\u001b[0;32m      6\u001b[0m     \u001b[38;5;28;01mreturn\u001b[39;00m ram\n\u001b[1;32m----> 8\u001b[0m new_1 \u001b[38;5;241m=\u001b[39m moy_med_ety(tab)\n",
      "\u001b[1;31mNameError\u001b[0m: name 'tab' is not defined"
     ]
    }
   ],
   "source": [
    "def moy_med_ety(orig_tab):\n",
    "    mo = np.average(orig_tab)\n",
    "    var = np.var(orig_tab)\n",
    "    ety = np.std(orig_tab)\n",
    "    ram = print(\"Voici les variables : \", mo, var, ety)\n",
    "    return ram\n",
    "\n",
    "new_1 = moy_med_ety(tab)"
   ]
  },
  {
   "cell_type": "markdown",
   "metadata": {},
   "source": [
    "# EXERCICE8\n",
    "Créez une fonction qui prend un tableau NumPy en entrée et renvoie un nouveau tableau où tous les éléments inférieurs à 5 sont remplacés par 0 et tous les éléments supérieurs ou égaux à 5 sont remplacés par 1."
   ]
  },
  {
   "cell_type": "code",
   "execution_count": 25,
   "metadata": {},
   "outputs": [
    {
     "name": "stdout",
     "output_type": "stream",
     "text": [
      "[0 1 0 0 0 0 1 0]\n"
     ]
    }
   ],
   "source": [
    "def zero_one(orig_tab):\n",
    "    return np.where(orig_tab < 5, 0, 1)\n",
    "\n",
    "z_o_tab = zero_one(tab)\n",
    "print(z_o_tab)"
   ]
  },
  {
   "cell_type": "markdown",
   "metadata": {},
   "source": [
    "# EXERCICE9\n",
    "Créez une fonction qui prend un tableau NumPy de nombres entiers en entrée et renvoie un nouveau tableau contenant uniquement les nombres premiers du tableau d'origine."
   ]
  },
  {
   "cell_type": "code",
   "execution_count": 2,
   "metadata": {},
   "outputs": [
    {
     "ename": "NameError",
     "evalue": "name 'np' is not defined",
     "output_type": "error",
     "traceback": [
      "\u001b[1;31m---------------------------------------------------------------------------\u001b[0m",
      "\u001b[1;31mNameError\u001b[0m                                 Traceback (most recent call last)",
      "Cell \u001b[1;32mIn[2], line 12\u001b[0m\n\u001b[0;32m      7\u001b[0m     \u001b[38;5;28;01mreturn\u001b[39;00m \u001b[38;5;28;01mTrue\u001b[39;00m\n\u001b[0;32m      9\u001b[0m \u001b[38;5;66;03m# num = 13\u001b[39;00m\n\u001b[0;32m     10\u001b[0m \u001b[38;5;66;03m# print(is_primenumber(num))\u001b[39;00m\n\u001b[1;32m---> 12\u001b[0m tab_uniq \u001b[38;5;241m=\u001b[39m np\u001b[38;5;241m.\u001b[39munique(tab)\n\u001b[0;32m     14\u001b[0m \u001b[38;5;28;01mdef\u001b[39;00m \u001b[38;5;21mfilter_prNum\u001b[39m(orig_tab):\n\u001b[0;32m     15\u001b[0m     \u001b[38;5;28;01mreturn\u001b[39;00m np\u001b[38;5;241m.\u001b[39marray([ x \u001b[38;5;28;01mfor\u001b[39;00m x \u001b[38;5;129;01min\u001b[39;00m orig_tab \u001b[38;5;28;01mif\u001b[39;00m is_primenumber(x)])\n",
      "\u001b[1;31mNameError\u001b[0m: name 'np' is not defined"
     ]
    }
   ],
   "source": [
    "def is_primenumber(n):\n",
    "    if n <= 1:\n",
    "        return False\n",
    "    for i in range(2, int(np.sqrt(n)) + 1):\n",
    "        if n % i == 0:\n",
    "            return False\n",
    "    return True\n",
    "\n",
    "# num = 13\n",
    "# print(is_primenumber(num))\n",
    "\n",
    "tab_uniq = np.unique(tab)\n",
    "\n",
    "def filter_prNum(orig_tab):\n",
    "    return np.array([ x for x in orig_tab if is_primenumber(x)])\n",
    "\n",
    "arr_prNum = filter_prNum(tab_uniq)\n",
    "print(arr_prNum)"
   ]
  },
  {
   "cell_type": "markdown",
   "metadata": {},
   "source": [
    "# EXERCICE10\n",
    "Créez un tableau NumPy 2D de taille 3x3 contenant des valeurs entières générées aléatoirement entre 1 et 10."
   ]
  },
  {
   "cell_type": "code",
   "execution_count": null,
   "metadata": {},
   "outputs": [],
   "source": []
  }
 ],
 "metadata": {
  "kernelspec": {
   "display_name": "base",
   "language": "python",
   "name": "python3"
  },
  "language_info": {
   "codemirror_mode": {
    "name": "ipython",
    "version": 3
   },
   "file_extension": ".py",
   "mimetype": "text/x-python",
   "name": "python",
   "nbconvert_exporter": "python",
   "pygments_lexer": "ipython3",
   "version": "3.12.4"
  }
 },
 "nbformat": 4,
 "nbformat_minor": 2
}
