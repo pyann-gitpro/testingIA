{
 "cells": [
  {
   "cell_type": "markdown",
   "metadata": {},
   "source": [
    "Écrivez un programme qui demande à l'utilisateur de saisir un nombre entier positif et affiche tous les nombres de 1 jusqu'à ce nombre (inclus).\n",
    "\n",
    "Écrivez une fonction qui prend une liste de nombres en entrée et renvoie une nouvelle liste contenant uniquement les nombres positifs.\n",
    "\n",
    "Écrivez une fonction qui prend une liste de mots en entrée et renvoie une nouvelle liste contenant les mots dont la première lettre est une voyelle (a, e, i, o, u).\n",
    "\n",
    "Écrivez une fonction qui prend un nombre entier en entrée et affiche si ce nombre est positif, négatif ou nul.\n",
    "\n",
    "Écrivez un programme qui demande à l'utilisateur de saisir un mot et affiche si ce mot contient plus de 5 caractères.\n",
    "\n",
    "Écrivez un programme qui demande à l'utilisateur de saisir 5 nombres entiers, acquisition clavier, les stocke dans une liste, puis affiche la liste.\n",
    "\n",
    "Écrivez une fonction qui prend une liste de nombres en entrée et renvoie la somme de tous les éléments de la liste.\n",
    "\n",
    "Écrivez une fonction qui prend une liste de mots en entrée et renvoie une nouvelle liste contenant la longueur de chaque mot.\n",
    "\n",
    "Écrivez une fonction qui prend une liste de nombres en entrée et renvoie une nouvelle liste contenant uniquement les nombres pairs de la liste initiale.\n",
    "\n",
    "Écrivez un programme qui prend une liste de mots en entrée, acquisition clavier, les trie par ordre alphabétique et affiche la liste triée."
   ]
  },
  {
   "cell_type": "markdown",
   "metadata": {},
   "source": [
    "# EXO 1\n",
    "Écrivez un programme qui demande à l'utilisateur de saisir un nombre entier positif et affiche tous les nombres de 1 jusqu'à ce nombre (inclus)."
   ]
  },
  {
   "cell_type": "code",
   "execution_count": 6,
   "metadata": {},
   "outputs": [],
   "source": [
    "userNum = int(input(\"Entrez un entier positif : \"))\n",
    "if userNum > 0:\n",
    "    i = 0\n",
    "    while i <= userNum:\n",
    "        print(i)\n",
    "        i+=1\n",
    "else:\n",
    "    int(input(\"Entrez un nouvel entier positif\"))"
   ]
  },
  {
   "cell_type": "markdown",
   "metadata": {},
   "source": [
    "# EXO 2\n",
    "Écrivez une fonction qui prend une liste de nombres en entrée et renvoie une nouvelle liste contenant uniquement les nombres positifs.\n",
    "\n",
    "new_list = [function(item) for item in list if condition(item)]"
   ]
  },
  {
   "cell_type": "code",
   "execution_count": null,
   "metadata": {},
   "outputs": [],
   "source": [
    "def renvoiNewList(a):\n",
    "    return [valeur for valeur in a if valeur > 0]\n",
    "\n",
    "liste_nombre = [-1, 1, 3, 5, 7, -45]\n",
    "new_list = renvoiNewList(liste_nombre)\n",
    "\n",
    "print(\"Liste des positifs : \", new_list)"
   ]
  },
  {
   "cell_type": "code",
   "execution_count": null,
   "metadata": {},
   "outputs": [],
   "source": [
    "a = [1,-4,2,7,1,9,0,3,4,-6,6,6,-8,3]\n",
    "b = []\n",
    "for x in a:\n",
    "    if x > 0:\n",
    "        b.append(x)\n",
    "\n",
    "print(b)"
   ]
  },
  {
   "cell_type": "markdown",
   "metadata": {},
   "source": [
    "## EXO 3\n",
    "Écrivez une fonction qui prend une liste de mots en entrée et renvoie une nouvelle liste contenant les mots dont la première lettre est une voyelle (a, e, i, o, u)."
   ]
  },
  {
   "cell_type": "code",
   "execution_count": 20,
   "metadata": {},
   "outputs": [
    {
     "name": "stdout",
     "output_type": "stream",
     "text": [
      "['itot', 'atot']\n"
     ]
    }
   ],
   "source": [
    "# fonction renvoi new list 1er lettre Voyelle\n",
    "\n",
    "def letter_voyelle(list_orig):\n",
    "    return [x for x in list_orig if x[0] in [\"a\", \"e\", \"i\", \"o\", \"u\"]]\n",
    "word_list = [\"toto\", \"tutu\", \"itot\", \"titi\", \"atot\"]\n",
    "nlist = letter_voyelle(word_list)\n",
    "\n",
    "print(nlist)"
   ]
  },
  {
   "cell_type": "markdown",
   "metadata": {},
   "source": [
    "## EXO 4\n",
    "Écrivez une fonction qui prend un nombre entier en entrée et affiche si ce nombre est positif, négatif ou nul."
   ]
  },
  {
   "cell_type": "code",
   "execution_count": 22,
   "metadata": {},
   "outputs": [
    {
     "name": "stdout",
     "output_type": "stream",
     "text": [
      "nombre positif\n"
     ]
    }
   ],
   "source": [
    "def print_num(x):\n",
    "    if x > 0:\n",
    "        print(\"nombre positif\")\n",
    "    elif x == 0:\n",
    "        print(\"nombre nul\")\n",
    "    else:\n",
    "        print(\"nombre négatif\")\n",
    "integer_num = 12\n",
    "type_num = print_num(integer_num)\n",
    "\n"
   ]
  },
  {
   "cell_type": "markdown",
   "metadata": {},
   "source": [
    "## EXO 5\n",
    "Écrivez un programme qui demande à l'utilisateur de saisir un mot et affiche si ce mot contient plus de 5 caractères."
   ]
  },
  {
   "cell_type": "code",
   "execution_count": null,
   "metadata": {},
   "outputs": [],
   "source": [
    "userWord = str(input(\"Entrez votre mot : \"))\n",
    "lengthWord = len(userWord)\n",
    "\n",
    "if lengthWord > 5:\n",
    "    print(userWord)\n",
    "else:\n",
    "    print(\"Votre mot ne contient pas plus de 5 caractères\")"
   ]
  },
  {
   "cell_type": "markdown",
   "metadata": {},
   "source": [
    "## EXO 6\n",
    "Écrivez un programme qui demande à l'utilisateur de saisir 5 nombres entiers, acquisition clavier, les stocke dans une liste, puis affiche la liste."
   ]
  },
  {
   "cell_type": "code",
   "execution_count": 8,
   "metadata": {},
   "outputs": [
    {
     "name": "stdout",
     "output_type": "stream",
     "text": [
      "[12, 15, 22, 20, 23]\n"
     ]
    }
   ],
   "source": [
    "ram = list()\n",
    "\n",
    "i = 5\n",
    "for i in range(0, 5):\n",
    "    integer5User = int(input(\"Entrez un nombre entier :\"))\n",
    "    ram.append(integer5User)\n",
    "\n",
    "print(ram)\n"
   ]
  },
  {
   "cell_type": "markdown",
   "metadata": {},
   "source": [
    "## EXO 7\n",
    "Écrivez une fonction qui prend une liste de nombres en entrée et renvoie la somme de tous les éléments de la liste."
   ]
  },
  {
   "cell_type": "code",
   "execution_count": 10,
   "metadata": {},
   "outputs": [],
   "source": [
    "ram = [12, 15, 30]\n",
    "def sum(list):\n",
    "    total = 0\n",
    "    for total in range(list):\n",
    "        list.append(total)\n",
    "    return total"
   ]
  }
 ],
 "metadata": {
  "kernelspec": {
   "display_name": "Python 3",
   "language": "python",
   "name": "python3"
  },
  "language_info": {
   "codemirror_mode": {
    "name": "ipython",
    "version": 3
   },
   "file_extension": ".py",
   "mimetype": "text/x-python",
   "name": "python",
   "nbconvert_exporter": "python",
   "pygments_lexer": "ipython3",
   "version": "3.12.4"
  }
 },
 "nbformat": 4,
 "nbformat_minor": 2
}
